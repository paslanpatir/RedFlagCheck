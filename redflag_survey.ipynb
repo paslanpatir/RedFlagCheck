{
 "cells": [
  {
   "cell_type": "code",
   "execution_count": 2,
   "metadata": {},
   "outputs": [],
   "source": [
    "HOME = \"C:\\\\Users\\\\Pelin\\\\Documents\\\\RedFlagListStudy\\\\\""
   ]
  },
  {
   "cell_type": "code",
   "execution_count": 3,
   "metadata": {},
   "outputs": [],
   "source": [
    "import os\n",
    "os.chdir(HOME)"
   ]
  },
  {
   "cell_type": "code",
   "execution_count": 4,
   "metadata": {},
   "outputs": [],
   "source": [
    "import streamlit as st\n",
    "\n",
    "import pandas as pd\n",
    "import numpy as np\n",
    "import uuid  # To generate unique IDs\n"
   ]
  },
  {
   "cell_type": "markdown",
   "metadata": {},
   "source": [
    "# data"
   ]
  },
  {
   "cell_type": "code",
   "execution_count": 5,
   "metadata": {},
   "outputs": [],
   "source": [
    "def load_data(file_path):\n",
    "    cat = pd.read_excel(file_path, sheet_name=\"Categories\")\n",
    "    dt = pd.read_excel(file_path, sheet_name=\"RedFlags\")\n",
    "    return cat,dt"
   ]
  },
  {
   "cell_type": "code",
   "execution_count": null,
   "metadata": {},
   "outputs": [],
   "source": [
    "def toxic_score_sofar(file_name='user_responses.csv'):\n",
    "    dt = pd.read_csv(file_name)\n",
    "    return dt['Toxic Score'].mean()"
   ]
  },
  {
   "cell_type": "code",
   "execution_count": 6,
   "metadata": {},
   "outputs": [],
   "source": [
    "def generate_survey(data):\n",
    "    answers = {}\n",
    "    tot_score = 0\n",
    "    abs_tot_score = 0\n",
    "    for index, row in data.iterrows():\n",
    "        question = row['Question'].strip()  # Assuming 'Question' is the column header for questions\n",
    "        st.markdown(f\"**{index + 1}.** **{question}**\")\n",
    "        answer = st.slider(f\"Please select a score:\", min_value=0, max_value=10, key=index)\n",
    "        answers[f\"Q{index + 1}\"] = answer\n",
    "        st.divider()\n",
    "        ## scoring\n",
    "        weight = row['Weight']\n",
    "        tot_score       = tot_score + weight*answer\n",
    "        abs_tot_score   = abs_tot_score + weight*np.where(weight<0, 0,10) # negatif weigtli bir şeyde toksik olmak 0 puan almak demektir.\n",
    "\n",
    "    toxic_score = 1.0*tot_score/abs_tot_score\n",
    "    return answers,toxic_score"
   ]
  },
  {
   "cell_type": "code",
   "execution_count": 7,
   "metadata": {},
   "outputs": [],
   "source": [
    "def save_answers(answers, file_name='survey_answers.csv'):\n",
    "    df = pd.DataFrame(list(answers.items()), columns=['Question', 'Answer'])\n",
    "    df.to_csv(file_name, index=False)"
   ]
  },
  {
   "cell_type": "code",
   "execution_count": 8,
   "metadata": {},
   "outputs": [],
   "source": [
    "# Function to save user info and answers to a CSV file\n",
    "def save_user_data(user_id, name, email, answers,toxic_score, file_name='user_responses.csv'):\n",
    "    # Create a dictionary to store user data and answers\n",
    "    user_data = {\n",
    "        'User ID': user_id,\n",
    "        'Name': name,\n",
    "        'Email': email,\n",
    "        'Toxic Score': toxic_score,\n",
    "        **answers  # Unpack the answers dictionary\n",
    "    }\n",
    "    \n",
    "    # Convert the dictionary to a DataFrame\n",
    "    df = pd.DataFrame([user_data])\n",
    "    \n",
    "    # Append the data to the CSV file (or create a new file if it doesn't exist)\n",
    "    try:\n",
    "        existing_data = pd.read_csv(file_name)\n",
    "        updated_data = pd.concat([existing_data, df], ignore_index=True)\n",
    "    except FileNotFoundError:\n",
    "        updated_data = df\n",
    "    \n",
    "    # Save the updated data to the CSV file\n",
    "    updated_data.to_csv(file_name, index=False)"
   ]
  },
  {
   "cell_type": "code",
   "execution_count": 9,
   "metadata": {},
   "outputs": [],
   "source": [
    "def welcome(name):\n",
    "    st.markdown(f\"Hello :blue[**{name}**]! :sunglasses:\")\n",
    "    st.markdown(f\"It is so nice to see you here. This survey is designed to help you to see how :red[toxic] your boyfriend is :bomb:\")\n",
    "    st.markdown(\"Please feel free to answer all the questions so that we can analyze the results obtained from all girls and use them to better point the toxic guys.\")\n",
    "    "
   ]
  },
  {
   "cell_type": "markdown",
   "metadata": {},
   "source": [
    "# dashboard"
   ]
  },
  {
   "cell_type": "code",
   "execution_count": 10,
   "metadata": {},
   "outputs": [],
   "source": [
    "def main():\n",
    "    st.title(\"RedFlag List\")\n",
    "\n",
    "    # Initialize session state for user details\n",
    "    if \"user_details\" not in st.session_state:\n",
    "        st.session_state.user_details = {\"name\": None, \"email\": None}\n",
    "\n",
    "    # Ask the user for their name and email using a form\n",
    "    if not st.session_state.user_details[\"name\"] or not st.session_state.user_details[\"email\"]:\n",
    "        st.write(\"Please enter your details:\")\n",
    "        with st.form(\"user_details_form\"):\n",
    "            name = st.text_input(\"Name\", key=\"name_input\")\n",
    "            email = st.text_input(\"Email\", key=\"email_input\")\n",
    "            if st.form_submit_button(\"Submit\"):\n",
    "                if name and email:  # Ensure name and email are provided\n",
    "                    st.session_state.user_details = {\"name\": name, \"email\": email}\n",
    "                    st.rerun()\n",
    "                else:\n",
    "                    st.error(\"Please enter both your name and email.\")\n",
    "            \n",
    "    else:\n",
    "        name = st.session_state.user_details[\"name\"]\n",
    "        email= st.session_state.user_details[\"email\"]\n",
    "        # Generate a unique ID for the user\n",
    "        user_id = str(uuid.uuid4())  # Creates a unique identifier\n",
    "\n",
    "    \n",
    "        # Load the Excel file\n",
    "        file_path = \"RedFlagQuestions_Scores.xlsx\"\n",
    "        cat,dt = load_data(file_path)\n",
    "\n",
    "        # Generate the survey\n",
    "        welcome(name)\n",
    "\n",
    "        st.subheader(\"Please answer the following questions :tulip:\", divider=True)\n",
    "        answers, toxic_score = generate_survey(dt)\n",
    "\n",
    "        # Save the user data and answers\n",
    "        if st.button('Submit'):\n",
    "            if name and email:  # Ensure name and email are provided\n",
    "                save_user_data(user_id, name, email, answers,toxic_score)\n",
    "                st.success(f\"Thank you for completing the survey! Your boyfriend's toxic score is: **{toxic_score}**\")\n",
    "\n",
    "                # Optional: Add additional feedback based on the toxic score\n",
    "                avg_toxic = toxic_score_sofar(file_name='user_responses.csv')\n",
    "                if toxic_score < avg_toxic:\n",
    "                    st.warning(\"Your boyfriend seems to be better than the half of the guys. Good for him!\")\n",
    "                else:\n",
    "                    st.error(\"Your score indicates a high level of toxicity. Please take action to address this.\")\n",
    "            else:\n",
    "                st.error(\"Please enter your name and email before submitting.\")"
   ]
  },
  {
   "cell_type": "code",
   "execution_count": 11,
   "metadata": {},
   "outputs": [
    {
     "name": "stderr",
     "output_type": "stream",
     "text": [
      "2025-02-05 21:47:21.164 WARNING streamlit.runtime.scriptrunner_utils.script_run_context: Thread 'MainThread': missing ScriptRunContext! This warning can be ignored when running in bare mode.\n",
      "2025-02-05 21:47:21.369 \n",
      "  \u001b[33m\u001b[1mWarning:\u001b[0m to view this Streamlit app on a browser, run it with the following\n",
      "  command:\n",
      "\n",
      "    streamlit run C:\\Users\\Pelin\\AppData\\Local\\Packages\\PythonSoftwareFoundation.Python.3.12_qbz5n2kfra8p0\\LocalCache\\local-packages\\Python312\\site-packages\\ipykernel_launcher.py [ARGUMENTS]\n",
      "2025-02-05 21:47:21.370 Thread 'MainThread': missing ScriptRunContext! This warning can be ignored when running in bare mode.\n",
      "2025-02-05 21:47:21.370 Thread 'MainThread': missing ScriptRunContext! This warning can be ignored when running in bare mode.\n",
      "2025-02-05 21:47:21.371 Session state does not function when running a script without `streamlit run`\n",
      "2025-02-05 21:47:21.371 Thread 'MainThread': missing ScriptRunContext! This warning can be ignored when running in bare mode.\n",
      "2025-02-05 21:47:21.372 Thread 'MainThread': missing ScriptRunContext! This warning can be ignored when running in bare mode.\n",
      "2025-02-05 21:47:21.374 Thread 'MainThread': missing ScriptRunContext! This warning can be ignored when running in bare mode.\n",
      "2025-02-05 21:47:21.374 Thread 'MainThread': missing ScriptRunContext! This warning can be ignored when running in bare mode.\n",
      "2025-02-05 21:47:21.374 Thread 'MainThread': missing ScriptRunContext! This warning can be ignored when running in bare mode.\n",
      "2025-02-05 21:47:21.374 Thread 'MainThread': missing ScriptRunContext! This warning can be ignored when running in bare mode.\n",
      "2025-02-05 21:47:21.374 Thread 'MainThread': missing ScriptRunContext! This warning can be ignored when running in bare mode.\n",
      "2025-02-05 21:47:21.374 Thread 'MainThread': missing ScriptRunContext! This warning can be ignored when running in bare mode.\n",
      "2025-02-05 21:47:21.377 Thread 'MainThread': missing ScriptRunContext! This warning can be ignored when running in bare mode.\n",
      "2025-02-05 21:47:21.377 Thread 'MainThread': missing ScriptRunContext! This warning can be ignored when running in bare mode.\n",
      "2025-02-05 21:47:21.378 Thread 'MainThread': missing ScriptRunContext! This warning can be ignored when running in bare mode.\n",
      "2025-02-05 21:47:21.378 Thread 'MainThread': missing ScriptRunContext! This warning can be ignored when running in bare mode.\n",
      "2025-02-05 21:47:21.380 Thread 'MainThread': missing ScriptRunContext! This warning can be ignored when running in bare mode.\n",
      "2025-02-05 21:47:21.380 Thread 'MainThread': missing ScriptRunContext! This warning can be ignored when running in bare mode.\n",
      "2025-02-05 21:47:21.381 Thread 'MainThread': missing ScriptRunContext! This warning can be ignored when running in bare mode.\n",
      "2025-02-05 21:47:21.382 Thread 'MainThread': missing ScriptRunContext! This warning can be ignored when running in bare mode.\n",
      "2025-02-05 21:47:21.382 Thread 'MainThread': missing ScriptRunContext! This warning can be ignored when running in bare mode.\n",
      "2025-02-05 21:47:21.383 Thread 'MainThread': missing ScriptRunContext! This warning can be ignored when running in bare mode.\n",
      "2025-02-05 21:47:21.383 Thread 'MainThread': missing ScriptRunContext! This warning can be ignored when running in bare mode.\n",
      "2025-02-05 21:47:21.384 Thread 'MainThread': missing ScriptRunContext! This warning can be ignored when running in bare mode.\n",
      "2025-02-05 21:47:21.384 Thread 'MainThread': missing ScriptRunContext! This warning can be ignored when running in bare mode.\n",
      "2025-02-05 21:47:21.385 Thread 'MainThread': missing ScriptRunContext! This warning can be ignored when running in bare mode.\n",
      "2025-02-05 21:47:21.385 Thread 'MainThread': missing ScriptRunContext! This warning can be ignored when running in bare mode.\n",
      "2025-02-05 21:47:21.386 Thread 'MainThread': missing ScriptRunContext! This warning can be ignored when running in bare mode.\n",
      "2025-02-05 21:47:21.386 Thread 'MainThread': missing ScriptRunContext! This warning can be ignored when running in bare mode.\n",
      "2025-02-05 21:47:21.386 Thread 'MainThread': missing ScriptRunContext! This warning can be ignored when running in bare mode.\n"
     ]
    }
   ],
   "source": [
    "# Run the application\n",
    "if __name__ == \"__main__\":\n",
    "    main()"
   ]
  }
 ],
 "metadata": {
  "kernelspec": {
   "display_name": "Python 3",
   "language": "python",
   "name": "python3"
  },
  "language_info": {
   "codemirror_mode": {
    "name": "ipython",
    "version": 3
   },
   "file_extension": ".py",
   "mimetype": "text/x-python",
   "name": "python",
   "nbconvert_exporter": "python",
   "pygments_lexer": "ipython3",
   "version": "3.12.9"
  }
 },
 "nbformat": 4,
 "nbformat_minor": 2
}
